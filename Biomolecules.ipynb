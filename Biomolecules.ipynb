{
 "cells": [
  {
   "cell_type": "markdown",
   "metadata": {},
   "source": [
    "![Biomolecules](biomolecules/food.png)"
   ]
  },
  {
   "cell_type": "markdown",
   "metadata": {
    "collapsed": true
   },
   "source": [
    "Food provides the body with the nutrients it needs to survive. Many of these critical nutrients are biological macromolecules, or large molecules, necessary for life. These macromolecules (polymers) are built from different combinations of smaller organic molecules (monomers). What specific types of biological macromolecules do living things require? How are these molecules formed? What functions do they serve? In this chapter, these questions will be explored."
   ]
  },
  {
   "cell_type": "markdown",
   "metadata": {},
   "source": [
    "#### Macromolecules are polymers, built from monomers"
   ]
  },
  {
   "cell_type": "markdown",
   "metadata": {},
   "source": [
    "The macromolecules in three of the four classes of life’s organic compounds—carbohydrates, proteins, and nucleic acids, all except lipids—are chain-like molecules called polymers (from the Greek polys, many, and meros, part). A polymer is a long molecule consisting of many similar or\n",
    "identical building blocks linked by covalent bonds, much as a train consists of a chain of cars. The repeating units that serve as the building blocks of a polymer are smaller molecules called monomers (from the Greek monos, single).  \n",
    "Some monomers also have other functions of their own."
   ]
  },
  {
   "cell_type": "markdown",
   "metadata": {},
   "source": [
    "**Analogy**  \n",
    "Flower chain, where each flower is analogous to monomers\n",
    "![Flower Chain](biomolecules/daisychain.jpg)"
   ]
  },
  {
   "cell_type": "markdown",
   "metadata": {},
   "source": [
    "**Questions**  \n",
    "Why lipids are not polymers?  "
   ]
  },
  {
   "cell_type": "markdown",
   "metadata": {},
   "source": [
    "![Fat](biomolecules/fat.png)"
   ]
  },
  {
   "cell_type": "markdown",
   "metadata": {},
   "source": [
    "### Dehydration Synthesis\n",
    "Most macromolecules are made from single subunits, or building blocks, called monomers. The monomers combine with each other using covalent bonds to form larger molecules known as polymers. In doing so, monomers release water molecules as byproducts. This type of reaction is known as dehydration synthesis, which means “to put together while losing water.”"
   ]
  },
  {
   "cell_type": "markdown",
   "metadata": {},
   "source": [
    "In a dehydration synthesis reaction, the hydrogen of one monomer combines with the hydroxyl group of another monomer, releasing a molecule of water. At the same time, the monomers share electrons and form covalent bonds. As additional monomers join, this chain of repeating monomers forms a polymer. Different types of monomers can combine in many configurations, giving rise to a diverse group of macromolecules. Even one kind of monomer can combine in a variety of ways to form several different polymers: for example, glucose monomers are the constituents of starch, glycogen, and cellulose."
   ]
  },
  {
   "cell_type": "markdown",
   "metadata": {},
   "source": [
    "**Going farther**:  \n",
    "Enzymes that join amino acids to form protein: Peptidyl transferase (forms pepitde bonds)    \n",
    "Nucleotides to DNA: DNA ligase (forms  phosphodiester bonds)    \n",
    "Glucose to Starch: Starch synthase (forms 1,4-alpha-glycosidic bonds)   "
   ]
  },
  {
   "cell_type": "markdown",
   "metadata": {},
   "source": [
    "![Synthesis and Breakdown](biomolecules/hydrolysis.png)"
   ]
  },
  {
   "cell_type": "markdown",
   "metadata": {},
   "source": [
    "### Hydrolysis"
   ]
  },
  {
   "cell_type": "markdown",
   "metadata": {},
   "source": [
    "Polymers are broken down into monomers in a process known as hydrolysis, which means “to split water,” a reaction in which a water molecule is used during the breakdown (Figure). During these reactions, the polymer is broken into two components: one part gains a hydrogen atom (H+) and the other gains a hydroxyl molecule (OH–) from a split water molecule."
   ]
  },
  {
   "cell_type": "markdown",
   "metadata": {},
   "source": [
    "Dehydration and hydrolysis reactions are catalyzed, or “speed up,” by specific enzymes; dehydration reactions involve the formation of new bonds, requiring energy, while hydrolysis reactions break bonds and release energy. These reactions are similar for most macromolecules, but each monomer and polymer reaction is specific for its class. For example, in our bodies, food is hydrolyzed, or broken down, into smaller molecules by catalytic enzymes in the digestive system. This allows for easy absorption of nutrients by cells in the intestine. Each macromolecule is broken down by a specific enzyme. For instance, carbohydrates are broken down by amylase, sucrase, lactase, or maltase. Proteins are broken down by the enzymes pepsin and peptidase, and by hydrochloric acid. Lipids are broken down by lipases. Breakdown of these macromolecules provides energy for cellular activities."
   ]
  },
  {
   "cell_type": "markdown",
   "metadata": {},
   "source": [
    "**Concept Check**\n",
    "1. What are the four main classes of large biological molecules? Which class does not consist of polymers?  \n",
    "2. How many molecules of water are needed to completely hydrolyze a polymer that is ten monomers long?  \n",
    "**What If?**\n",
    "3. If you eat a piece of fish, what reactions must occur for the amino acid monomers in the protein of the fish to be converted to new proteins in your body?"
   ]
  },
  {
   "cell_type": "markdown",
   "metadata": {},
   "source": [
    "**Quiz**  \n",
    "Dehydration synthesis leads to formation of  \n",
    "a) monomers  \n",
    "b) polymers  \n",
    "c) water and polymers  \n",
    "d) none of the above  \n",
    "\n",
    "During the breakdown of polymers, which of the following reactions takes place?  \n",
    "a) hydrolysis  \n",
    "b) dehydration  \n",
    "c) condensation  \n",
    "d) covalent bond  "
   ]
  },
  {
   "cell_type": "markdown",
   "metadata": {},
   "source": [
    "**Free Response**  \n",
    "Why are biological macromolecules considered organic?"
   ]
  },
  {
   "cell_type": "markdown",
   "metadata": {},
   "source": [
    "Biological macromolecules are organic because they contain carbon."
   ]
  },
  {
   "cell_type": "markdown",
   "metadata": {},
   "source": [
    "**Review Question**  \n",
    "What are macromolecules? Give examples.  "
   ]
  },
  {
   "cell_type": "markdown",
   "metadata": {},
   "source": [
    "# Carbohydrate\n"
   ]
  },
  {
   "cell_type": "markdown",
   "metadata": {},
   "source": [
    "Carbohydrates include sugars and polymers of sugars. The simplest carbohydrates are the monosaccharides, or simple sugars; these are the monomers from which more complex carbohydrates are built. Disaccharides are double sugars, consisting of two monosaccharides joined by a covalent bond. Carbohydrate macromolecules are polymers called polysaccharides, composed of many sugar building blocks."
   ]
  },
  {
   "cell_type": "markdown",
   "metadata": {},
   "source": [
    "### Sugars"
   ]
  },
  {
   "cell_type": "markdown",
   "metadata": {},
   "source": [
    "Monosaccharides (from the Greek monos, single, and sac- char, sugar) generally have molecular formulas that are some multiple of the unit CH<sub>2</sub>O. Glucose (C<sub>6</sub>H<sub>12</sub>O<sub>6</sub>), the most common monosaccharide, is of central importance in the chemistry of life. In the structure of glucose, we can see the trademarks of a sugar: The molecule has a carbonyl group (CO) and multiple hydroxyl groups (-OH). Depending on the location of the carbonyl group, a sugar is either an aldose (aldehyde sugar) or a ketose (ketone sugar). Glucose, for example, is an aldose; fructose, an isomer of glucose, is a ketose. (Most names for sugars end in -ose.) An- other criterion for classifying sugars is the size of the carbon skeleton, which ranges from three to seven carbons long. Glucose, fructose, and other sugars that have six carbons are called hexoses. Trioses (three-carbon sugars) and pentoses (five-carbon sugars) are also common. "
   ]
  },
  {
   "cell_type": "markdown",
   "metadata": {},
   "source": [
    "![monsaccharides](biomolecules/monsaccharides.png)"
   ]
  },
  {
   "cell_type": "markdown",
   "metadata": {},
   "source": [
    "Although it is convenient to draw glucose with a linear car- bon skeleton, this representation is not completely accurate. In aqueous solutions, glucose molecules, as well as most other five- and six-carbon sugars, form rings. "
   ]
  },
  {
   "cell_type": "markdown",
   "metadata": {},
   "source": [
    "![Chain and Ring](biomolecules/ring_glucose.png)"
   ]
  },
  {
   "cell_type": "markdown",
   "metadata": {},
   "source": [
    "A **disaccharide** consists of two monosaccharides joined by a **glycosidic linkage**, a covalent bond formed between two monosaccharides by a dehydration reaction. For example, maltose is a disaccharide formed by the linking of two molecules of glucose (Figure 5.5a). Also known as malt sugar, maltose is an ingredient used in brewing beer. The most prevalent disaccharide is sucrose, which is table sugar. Its two monomers are glucose and fructose (Figure 5.5b). Plants gen- erally transport carbohydrates from leaves to roots and other nonphotosynthetic organs in the form of sucrose. Lactose, the sugar present in milk, is another disaccharide, in this case a glucose molecule joined to a galactose molecule. "
   ]
  },
  {
   "cell_type": "markdown",
   "metadata": {},
   "source": [
    "![disaccharide](biomolecules/disaccharide.png)"
   ]
  },
  {
   "cell_type": "markdown",
   "metadata": {},
   "source": [
    "**Answers**\n",
    "![Answers](biomolecules/answers1.png)"
   ]
  },
  {
   "cell_type": "markdown",
   "metadata": {},
   "source": [
    "### Polysaccharides\n",
    "Polysaccharides are macromolecules, polymers with a few hundred to a few thousand monosaccharides joined by glycosidic linkages. Some polysaccharides serve as storage material, hydrolyzed as needed to provide sugar for cells. Other polysaccharides serve as building material for structures that protect the cell or the whole organism. The architecture and function of a polysaccharide are determined by its sugar monomers and by the positions of its glycosidic linkages. "
   ]
  },
  {
   "cell_type": "markdown",
   "metadata": {},
   "source": [
    "![Polysaccharide](biomolecules/polysaccharide.png)"
   ]
  },
  {
   "cell_type": "markdown",
   "metadata": {},
   "source": [
    "### Storage Polysaccharides\n",
    "Both plants and animals store sugars for later use in the form of storage polysaccharides (Figure 5.6) . Plants store starch, a polymer of glucose monomers, as granules within cellular structures known as plastids, which include chloroplasts. Synthesizing starch enables the plant to stockpile surplus glucose. Because glucose is a major cellular fuel, starch represents stored energy. The sugar can later be with- drawn from this carbohydrate “bank” by hydrolysis, which breaks the bonds between the glucose monomers. Most animals, including humans, also have enzymes that can hydrolyze plant starch, making glucose available as a nutrient for cells. Potato tubers and grains are the major sources of starch in the human diet.  \n",
    "\n",
    "Most of the glucose monomers in starch are joined by *1–4 linkages* (number 1 carbon to number 4 carbon), like the glucose units in maltose (see Figure 5.5a). The simplest form of starch, **amylose**, is unbranched. **Amylopectin**, a more complex starch, is a branched polymer with 1–6 link- ages at the branch points. Both of these starches are shown in Figure 5.6a. "
   ]
  },
  {
   "cell_type": "markdown",
   "metadata": {},
   "source": [
    "### Structural Polysaccharides\n",
    "Organisms build strong materials from structural polysaccharides. For example, the polysaccharide called **cellulose** is a major component of the tough walls that enclose plant cells (Figure 5.6c). On a global scale, plants produce almost 1014 kg (100 billion tons) of cellulose per year; it is the most abundant organic compound on Earth. "
   ]
  },
  {
   "cell_type": "markdown",
   "metadata": {},
   "source": [
    "![Cellulose](biomolecules/cellulose.png)"
   ]
  },
  {
   "cell_type": "markdown",
   "metadata": {},
   "source": [
    "Cellulose is the major constituent of paper and the only component of cotton."
   ]
  },
  {
   "cell_type": "markdown",
   "metadata": {},
   "source": [
    "Enzymes that digest starch by hydrolyzing its α linkages are unable to hydrolyze the β linkages of cellulose due to the different shapes of these two molecules. In fact, few organisms possess enzymes that can digest cellulose. Almost all animals, including humans, do not; the cellulose in our food passes through the digestive tract and is eliminated with the feces. Along the way, the cellulose abrades the wall of the digestive tract and stimulates the lining to secrete mucus, which aids in the smooth passage of food through the tract. Thus, although cellulose is not a nutrient for humans, it is an important part of a healthful diet. Most fruits, vegetables, and whole grains are rich in cellulose. On food packages, “insoluble fiber” refers mainly to cellulose. "
   ]
  },
  {
   "cell_type": "markdown",
   "metadata": {},
   "source": [
    "Another important structural polysaccharide is chitin, the carbohydrate used by arthropods (insects, spiders, crus- taceans, and related animals) to build their exoskeletons."
   ]
  },
  {
   "cell_type": "markdown",
   "metadata": {},
   "source": [
    "![Chitin](biomolecules/chitin.png)"
   ]
  },
  {
   "cell_type": "markdown",
   "metadata": {},
   "source": [
    "**Concept Check**\n",
    "1. Write the formula for a monosaccharide that has three carbons.   \n",
    "2. A dehydration reaction joins two glucose molecules to form maltose. The formula for glucose is C<sub>6</sub>H<sub>12</sub>O<sub>6</sub>. What is the formula for maltose?   \n",
    "**What if?**  \n",
    "3. After a cow is given antibiotics to treat an infection, a vet gives the animal a drink of “gut culture” containing various prokaryotes. Why is this necessary?   "
   ]
  },
  {
   "cell_type": "markdown",
   "metadata": {},
   "source": [
    "**Knowledge/Comprehension**\n",
    "1. Which of the following categories includes all others in the list?  \n",
    "a. monosaccharide  \n",
    "c. starch  \n",
    "b. polysaccharide  \n",
    "d. carbohydrate  \n",
    "2. The enzyme amylase can break glycosidic linkages between glucose monomers only if the monomers are in the α form. Which of the following could amylase break down?  \n",
    "a. glycogen, starch, and amylopectin  \n",
    "b. glycogen and cellulose  \n",
    "c. cellulose and chitin  \n",
    "d. starch, chitin, and cellulose  \n"
   ]
  },
  {
   "cell_type": "markdown",
   "metadata": {},
   "source": [
    "**Review Questions**  \n",
    "An example of a monosaccharide is ________.  \n",
    "a. fructose  \n",
    "b. glucose  \n",
    "c. galactose  \n",
    "d. all of the above  \n",
    "\n",
    "Cellulose and starch are examples of:  \n",
    "a. monosaccharides  \n",
    "b. disaccharides  \n",
    "c. lipids  \n",
    "d. polysaccharides \n",
    "\n",
    "Plant cell walls contain which of the following in abundance?  \n",
    "a. starch  \n",
    "b. cellulose  \n",
    "c. glycogen  \n",
    "d. lactose\n",
    "\n",
    "Lactose is a disaccharide formed by the formation of a ________ bond between glucose and ________.  \n",
    "a. glycosidic; lactose  \n",
    "b. glycosidic; galactose  \n",
    "c. hydrogen; sucrose  \n",
    "d. hydrogen; fructose  \n"
   ]
  },
  {
   "cell_type": "markdown",
   "metadata": {},
   "source": [
    "**Free Response**  \n",
    "1. Describe the similarities and differences between glycogen and starch.\n",
    "\n",
    "2. Why is it impossible for humans to digest food that contains cellulose?"
   ]
  },
  {
   "cell_type": "markdown",
   "metadata": {},
   "source": [
    "**Answers to Free Response**\n",
    "1. Glycogen and starch are polysaccharides. They are the storage form of glucose. Glycogen is stored in animals in the liver and in muscle cells, whereas starch is stored in the roots, seeds, and leaves of plants. Starch has two different forms, one unbranched (amylose) and one branched (amylopectin), whereas glycogen is a single type of a highly branched molecule.\n",
    "2. The β 1-4 glycosidic linkage in cellulose cannot be broken down by human digestive enzymes. Herbivores such as cows, koalas, and buffalos are able to digest grass that is rich in cellulose and use it as a food source because bacteria and protists in their digestive systems, especially in the rumen, secrete the enzyme cellulase. Cellulases can break down cellulose into glucose monomers that can be used as an energy source by the animal."
   ]
  }
 ],
 "metadata": {
  "kernelspec": {
   "display_name": "Python 3",
   "language": "python",
   "name": "python3"
  },
  "language_info": {
   "codemirror_mode": {
    "name": "ipython",
    "version": 3
   },
   "file_extension": ".py",
   "mimetype": "text/x-python",
   "name": "python",
   "nbconvert_exporter": "python",
   "pygments_lexer": "ipython3",
   "version": "3.5.3"
  }
 },
 "nbformat": 4,
 "nbformat_minor": 2
}
