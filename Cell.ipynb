{
 "cells": [
  {
   "cell_type": "markdown",
   "metadata": {},
   "source": [
    "$$\\require{mhchem}$$"
   ]
  },
  {
   "cell_type": "markdown",
   "metadata": {},
   "source": [
    "### Cell Theory\n",
    "The microscopes we use today are far more complex than those used in the 1600s by Antony van Leeuwenhoek, a Dutch shopkeeper who had great skill in crafting lenses. Despite the limitations of his now-ancient lenses, van Leeuwenhoek observed the movements of protista (a type of single-celled organism) and sperm, which he collectively termed “animalcules.”   \n",
    "In a 1665 publication called Micrographia, experimental scientist Robert Hooke coined the term “cell” for the box-like structures he observed when viewing cork tissue through a lens. In the 1670s, van Leeuwenhoek discovered bacteria and protozoa. Later advances in lenses, microscope construction, and staining techniques enabled other scientists to see some components inside cells.  \n",
    "\n",
    "Rudolf Virchow (1855) first explained that cells divided and new cells are formed from pre-existing cells (Omnis cellula-e cellula).  \n",
    "\n",
    "By the late 1830s, botanist Matthias Schleiden and zoologist Theodor Schwann were studying tissues and proposed the **unified cell theory**, which states that all living things are composed of one or more cells, the cell is the basic unit of life, and new cells arise from existing cells. Rudolf Virchow later made important contributions to this theory.  \n",
    "\n",
    "Robert Brown later discovered the nucleus."
   ]
  },
  {
   "cell_type": "markdown",
   "metadata": {},
   "source": [
    "**Questions**  \n",
    "Which of the following is not correct?\n",
    "\n",
    "a) Robert Brown discovered the cell.  \n",
    "b) Schleiden and Schwann formulated the cell theory.  \n",
    "c) Virchow explained the cells are formed from pre-existing cells.  \n",
    "d) A unicelluar oragnism carries out its life activities within a single cell.  "
   ]
  },
  {
   "cell_type": "markdown",
   "metadata": {},
   "source": [
    "New cells generate from  \n",
    "(a) bacterial fermentation (b) regeneration of old cells\n",
    "(c) pre-existing cells (d) abiotic materials"
   ]
  },
  {
   "cell_type": "markdown",
   "metadata": {},
   "source": [
    "### Prokaryotic Cells\n",
    "Cells fall into one of two broad categories: prokaryotic and eukaryotic. Only the predominantly single-celled organisms of the domains Bacteria and Archaea are classified as prokaryotes (pro- = “before”; -kary- = “nucleus”). Cells of animals, plants, fungi, and protists are all eukaryotes (ceu- = “true”) and are made up of eukaryotic cells.  \n",
    "### Components of Prokaryotic Cells  \n",
    "All cells share four common components: 1) a plasma membrane, an outer covering that separates the cell’s interior from its surrounding environment; 2) cytoplasm, consisting of a jelly-like cytosol within the cell in which other cellular components are found; 3) DNA, the genetic material of the cell; and 4) ribosomes, which synthesize proteins. However, prokaryotes differ from eukaryotic cells in several ways.  \n",
    "A prokaryote is a simple, mostly single-celled (unicellular) organism that lacks a nucleus, or any other membrane-bound organelle. We will shortly come to see that this is significantly different in eukaryotes. Prokaryotic DNA is found in a central part of the cell: the nucleoid   "
   ]
  },
  {
   "cell_type": "markdown",
   "metadata": {},
   "source": [
    "![Prokaryotic cell](cell/prokaryotic_cell.jpg)"
   ]
  },
  {
   "cell_type": "markdown",
   "metadata": {},
   "source": [
    "Most prokaryotes have a peptidoglycan cell wall and many have a polysaccharide capsule (Figure). The cell wall acts as an extra layer of protection, helps the cell maintain its shape, and prevents dehydration. The capsule enables the cell to attach to surfaces in its environment. Some prokaryotes have flagella, pili, or fimbriae. Flagella are used for locomotion. Pili are used to exchange genetic material during a type of reproduction called conjugation. Fimbriae are used by bacteria to attach to a host cell."
   ]
  },
  {
   "cell_type": "markdown",
   "metadata": {},
   "source": [
    "**Questions**   \n",
    "Which of the following structures is present in prokaryotic cells?  \n",
    "A. Nucleus  \n",
    "B. Mitochondria  \n",
    "C. Cell wall  \n",
    "D. Golgi apparatus  \n",
    "E. Lysosome  "
   ]
  },
  {
   "cell_type": "markdown",
   "metadata": {},
   "source": [
    "### Eukaryotic Cells\n",
    "\n",
    "Have you ever heard the phrase “form follows function?” It’s a philosophy practiced in many industries. In architecture, this means that buildings should be constructed to support the activities that will be carried out inside them. For example, a skyscraper should be built with several elevator banks; a hospital should be built so that its emergency room is easily accessible.\n",
    "\n",
    "\n",
    "Our natural world also utilizes the principle of form following function, especially in cell biology, and this will become clear as we explore eukaryotic cells ( Figure). \n",
    "\n",
    "Unlike prokaryotic cells, eukaryotic cells have: 1) a membrane-bound nucleus; 2) numerous membrane-bound organelles such as the endoplasmic reticulum, Golgi apparatus, chloroplasts, mitochondria, and others; and 3) several, rod-shaped chromosomes. Because a eukaryotic cell’s nucleus is surrounded by a membrane, it is often said to have a “true nucleus.” The word “organelle” means “little organ,” and, as already mentioned, organelles have specialized cellular functions, just as the organs of your body have specialized functions.\n",
    "\n",
    "\n",
    "At this point, it should be clear to you that eukaryotic cells have a more complex structure than prokaryotic cells. Organelles allow different functions to be compartmentalized in different areas of the cell. Before turning to organelles, let’s first examine two important components of the cell: the plasma membrane and the cytoplasm."
   ]
  },
  {
   "cell_type": "markdown",
   "metadata": {},
   "source": [
    "![Cell](cell/cell.jpg)"
   ]
  },
  {
   "cell_type": "markdown",
   "metadata": {},
   "source": [
    "**Questions**  \n",
    "\n",
    "Which of the following is correct:  \n",
    "(a) Cells of all living organisms have a nucleus.  \n",
    "(b) Both animal and plant cells have a well defined cell wall.  \n",
    "(c) In prokaryotes, there are no membrane bound organelles.  \n",
    "(d) Cells are formed de novo from abiotic materials.  "
   ]
  },
  {
   "cell_type": "markdown",
   "metadata": {},
   "source": [
    "### The Plasma Membrane\n",
    "\n",
    "\n",
    "Like prokaryotes, eukaryotic cells have a plasma membrane, a phospholipid bilayer with embedded proteins that separates the internal contents of the cell from its surrounding environment. \n",
    "\n",
    "![Plasma Membrane](cell/plasma_membrane.jpg)\n",
    "\n",
    "A phospholipid is a lipid molecule with two fatty acid chains and a phosphate-containing group. \n",
    "![Phospholipid](cell/phospholipid.jpg)"
   ]
  },
  {
   "cell_type": "markdown",
   "metadata": {},
   "source": [
    "The plasma membrane controls the passage of organic molecules, ions, water and oxygen into and out of the cell. Wastes (such as carbon dioxide and ammonia) also leave the cell by passing through the plasma membrane."
   ]
  },
  {
   "cell_type": "markdown",
   "metadata": {},
   "source": [
    "One of the most important functions of the plasma membrane is the transport of the molecules across it. The membrane is selectively permeable to some molecules present on either side of it. Many molecules can move briefly across the membrane without any requirement of energy and this is called the passive transport. Neutral solutes may move across the membrane by the process of simple diffusion along the concentration gradient, i.e., from higher concentration to the lower. Water may also move across this membrane from higher to lower concentration. Movement of water by diffusion is called osmosis. As the polar molecules cannot pass through the nonpolar lipid bilayer, they require a carrier protein of the membrane to facilitate their transport across the membrane."
   ]
  },
  {
   "cell_type": "markdown",
   "metadata": {},
   "source": [
    "**Questions **  \n",
    "How do neutral solutes move across the plasma membrane? Can the polar molecules also move across it in the same way? If not, then how are these transported across the membrane?"
   ]
  },
  {
   "cell_type": "markdown",
   "metadata": {},
   "source": [
    "![Fluid mosaic model](cell/fluid_mosaic_model.jpg)"
   ]
  },
  {
   "cell_type": "markdown",
   "metadata": {},
   "source": [
    "\n",
    "The ** fluid mosaic model ** is the most accepted model for the arrangement of membranes.\n",
    "It states that the membrane consists of a phospholipid bilayer with proteins of various lengths and sizes interspersed with cholesterol among the phospholipids. These proteins perform various functions depending on their location within the membrane.  \n",
    "The fluid mosaic model consists of **integral proteins**, which are implanted within the bilayer and can extend partway or all the way across the membrane, and **peripheral proteins**, such as receptor proteins, which are not implanted in the bilayer and are often attached to integral proteins of the membrane. These proteins have various functions in cells. A protein that stretches across the membrane can function as a channel to assist the passage of desired molecules into the cell. Proteins on the exterior of a membrane with binding sites can act as receptors that allow the cell to respond to external signals such as hormones. Proteins embedded in the membrane can also function as enzymes, increasing the rate of cellular reactions.  \n"
   ]
  },
  {
   "cell_type": "markdown",
   "metadata": {},
   "source": [
    "Which of the following best describes the fluid mosaic model of membranes?  \n",
    "A. The membrane consists of a phospholipid bilayer with proteins of various lengths and\n",
    "sizes located on the exterior portions of the membrane.  \n",
    "B. The membrane consists of a phospholipid bilayer with proteins of various lengths and\n",
    "sizes located in the interior of the membrane.  \n",
    "C. The membrane is composed of a phospholipid bilayer with proteins of uniform lengths and\n",
    "sizes located in the interior of the membrane.  \n",
    "D. The membrane contains a phospholipid bilayer with proteins of various lengths and sizes interspersed among the phospholipids.  \n",
    "E. The membrane consists of a phospholipid bilayer with proteins of uniform length and size interspersed among the phospholipids.  "
   ]
  },
  {
   "cell_type": "markdown",
   "metadata": {},
   "source": [
    "### The Cytoplasm\n",
    "\n",
    "The cytoplasm is the entire region of a cell between the plasma membrane and the nuclear envelope.  \n",
    "It is made up of organelles suspended in the gel-like cytosol, the cytoskeleton, and various chemicals.  \n",
    "Even though the cytoplasm consists of 70 to 80 percent water, it has a semi-solid consistency, which comes from the proteins within it.\n",
    "\n",
    "\n",
    "However, proteins are not the only organic molecules found in the cytoplasm. Glucose and other simple sugars, polysaccharides, amino acids, nucleic acid, fatty acids, and derivatives of glycerol are found here too. Ions of sodium, potassium, calcium, and many other elements are also dissolved in the cytoplasm. Many metabolic reactions, including protein synthesis, take place in the cytoplasm."
   ]
  },
  {
   "cell_type": "markdown",
   "metadata": {},
   "source": [
    "### The Nucleus\n",
    "\n",
    "Typically, the nucleus is the most prominent organelle in a cell. The nucleus (plural=nulei) houses the cell's DNA and directs the synthesis of ribosomes and proteins."
   ]
  },
  {
   "cell_type": "markdown",
   "metadata": {},
   "source": [
    "![Nucleus](cell/nucleus.jpg)"
   ]
  },
  {
   "cell_type": "markdown",
   "metadata": {},
   "source": [
    "### The Nuclear Envelope\n",
    "The nuclear envelope is a double membrane structure that constitutes the outermost portion of the nucleus.     \n",
    "Both the inner and outer membranes of the nuclear envelope are phospholipid bilayers"
   ]
  },
  {
   "cell_type": "markdown",
   "metadata": {},
   "source": [
    "![Nuclear Envelope](cell/nuclear_envelope.jpg)"
   ]
  },
  {
   "cell_type": "markdown",
   "metadata": {},
   "source": [
    "The nuclear envelope is punctuated with pores that control the passage of ions, molecules, and RNA between the nucleoplasm and cytoplasm. The nucleoplasm is the semi-fluid inside the nucleus, where we find the chromatic and the nucleolus."
   ]
  },
  {
   "cell_type": "markdown",
   "metadata": {},
   "source": [
    "**Question**  \n",
    "What are nuclear pores? State their function."
   ]
  },
  {
   "cell_type": "markdown",
   "metadata": {},
   "source": [
    "If the nucleolus were not able to carry out its function, what other cellular organelles would be affected?\n",
    "  "
   ]
  },
  {
   "cell_type": "markdown",
   "metadata": {},
   "source": [
    "### Chromatin and Chromosomes"
   ]
  },
  {
   "cell_type": "markdown",
   "metadata": {},
   "source": [
    "![Human Chromosome](cell/human_chromosome.jpg)"
   ]
  },
  {
   "cell_type": "markdown",
   "metadata": {},
   "source": [
    "Chromosomes are structures within the nucleus that are made up of DNA, the hereditary material.   \n",
    "\n",
    "You may remember that prokaryotes, DNA is organized into a single circular chromosome. In eukaryotes, chromosomes are linear structures. Every eukaryotic species has a specific number of chromosomes in the nuclei of its body's cells. For example, in humans, the chromosome number is 46, while in fruit files, it is eight. Chromosomes are only visible and distinguishable from one another when the cell is getting ready to divide.  \n",
    "\n",
    "When the cell is in the growth and maintenance phases of its life cycle, proteins are attached to chromosomes, and they resemble an unwound, jumbled bunch of threads. These unwound protein-chromosomes complexes are called chromatin.   "
   ]
  },
  {
   "cell_type": "markdown",
   "metadata": {},
   "source": [
    "![Chromatin](cell/chromosome.jpg)"
   ]
  },
  {
   "cell_type": "markdown",
   "metadata": {},
   "source": [
    "**Questions**  \n",
    "As a cell begins the process of dividing, its chromosomes become shorter, thicker, and individually visible in an LM. Explain what is happening at the molecular level."
   ]
  },
  {
   "cell_type": "markdown",
   "metadata": {},
   "source": [
    "Every chromosome essentially has a primary constriction or the centromere on the sides of which disc shaped structures called kinetochores are present. Based on the position of the centromere, the chromosomes can be classified into four types. The metacentric chromosome has middle centromere forming two equal arms of the chromosome. The sub-metacentric chromosome has centromere slightly away from the middle of the chromosome resulting into one shorter arm and one longer arm. In case of acrocentric chromosome the centromere is situated close to its end forming one extremely short and one very long arm, whereas the telocentric chromosome has a terminal centromere.  \n",
    "Sometimes a few chromosomes have non-staining secondary constrictions at a constant location. This gives the appearance of a small fragment called the satellite\n",
    "\n",
    "![Kinetochore](cell/kinetochore.jpg)\n",
    "\n",
    "![Chromosome](cell/chromosomes_classification.jpg)"
   ]
  },
  {
   "cell_type": "markdown",
   "metadata": {},
   "source": [
    "**Questions**  \n",
    "What is a centromere? How does the position of centromere form the basis of classification of chromosomes. Support your answer with a diagram showing the position of centromere on different types of chromosomes."
   ]
  },
  {
   "cell_type": "markdown",
   "metadata": {},
   "source": [
    "### The Nucleoulus\n",
    "\n",
    "Probing Questions:  \n",
    "What is the function of nucleolus?  \n",
    "How does it directs the synthesis of ribosomes?  \n",
    "\n",
    "We already know that the nucleus directs the synthesis of ribosomes, but how does it do this? Some chromosomes have sections of DNA that encode ribosomal RNA. A darkly staining area within the nucleus called the nucleolus (plural = nucleoli) aggregates the ribosomal RNA with associated proteins to assemble the ribosomal subunits that are then transported out through the pores in the nuclear envelope to the cytoplasm."
   ]
  },
  {
   "cell_type": "markdown",
   "metadata": {},
   "source": [
    "#### Ribosomes\n",
    "Probing Questions:  \n",
    "What is the function of ribosomes?  \n",
    "What are polyribosomes?  \n",
    "Where are ribosomes attached?  \n",
    "Describe the structure of ribosome and what molecules ribosomes are made up of?  \n",
    "How ribosomes does protein synthesis?  \n",
    "\n",
    "Ribosomes are the cellular structures responsible for protein synthesis. When viewed through an electron microscope, ribosomes appear either as clusters (polyribosomes) or single, tiny dots that float freely in the cytoplasm. They may be attached to the cytoplasmic side of the plasma membrane or the cytoplasmic side of the endoplasmic reticulum and the outer membrane of the nuclear envelope. Electron microscopy has shown us that ribosomes, which are large complexes of protein and RNA, consist of two subunits, aptly called large and small. Ribosomes receive their “orders” for protein synthesis from the nucleus where the DNA is transcribed into messenger RNA (mRNA). The mRNA travels to the ribosomes, which translate the code provided by the sequence of the nitrogenous bases in the mRNA into a specific order of amino acids in a protein. Amino acids are the building blocks of proteins."
   ]
  },
  {
   "cell_type": "markdown",
   "metadata": {},
   "source": [
    "![Ribosomes](cell/ribosomes.jpg)"
   ]
  },
  {
   "cell_type": "markdown",
   "metadata": {},
   "source": [
    "Probing Questions:    \n",
    "Why are ribosomes are found in practically every cell?  \n",
    "Which cells does ribosomes are present in abundance?  \n",
    "\n",
    "\n",
    "Because proteins synthesis is an essential function of all cells (including enzymes, hormones, antibodies, pigments, structural components, and surface receptors), ribosomes are found in practically every cell. Ribosomes are particularly abundant in cells that synthesize large amounts of protein. For example, the pancreas is responsible for creating several digestive enzymes and the cells that produce these enzymes contain many ribosomes. Thus, we see another example of form following function."
   ]
  },
  {
   "cell_type": "markdown",
   "metadata": {},
   "source": [
    "### Mitochondria"
   ]
  },
  {
   "cell_type": "markdown",
   "metadata": {},
   "source": [
    "**Questions:**  \n",
    "Which organelle is called powerhouses or energy factories of a cell?  \n",
    "Why mitochondria is called energy factories?  \n",
    "What is ATP?  \n",
    "What is cellular respiration?  \n",
    "From where carbondioxide that you exhale come from?  \n",
    "\n",
    "Mitochondria (singular = mitochondrion) are often called the “powerhouses” or “energy factories” of a cell because they are responsible for making adenosine triphosphate (ATP), the cell’s main energy-carrying molecule. ATP represents the short-term stored energy of the cell. Cellular respiration is the process of making ATP using the chemical energy found in glucose and other nutrients. In mitochondria, this process uses oxygen and produces carbon dioxide as a waste product. In fact, the carbon dioxide that you exhale with every breath comes from the cellular reactions that produce carbon dioxide as a byproduct."
   ]
  },
  {
   "cell_type": "markdown",
   "metadata": {},
   "source": [
    "**Questions**  \n",
    "Why muscle cells have a very high concentration of mitochondria?  \n",
    "What happens to cells, when you don't get enough oxygen?  \n",
    "\n",
    "In keeping with our theme of form following function, it is important to point out that muscle cells have a very high concentration of mitochondria that produce ATP. Your muscle cells need a lot of energy to keep your body moving. When your cells don’t get enough oxygen, they do not make a lot of ATP. Instead, the small amount of ATP they make in the absence of oxygen is accompanied by the production of lactic acid."
   ]
  },
  {
   "cell_type": "markdown",
   "metadata": {},
   "source": [
    "**Questions**  \n",
    "Mitochondria is single membrane or double membrane organelle?  \n",
    "Cristae is present in ______  layer.  \n",
    "\n",
    "Mitochondria are oval-shaped, double membrane organelles ( Figure) that have their **own ribosomes and DNA**. Each membrane is a phospholipid bilayer embedded with proteins. The inner layer has folds called cristae. The area surrounded by the folds is called the mitochondrial matrix. The cristae and the matrix have different roles in cellular respiration."
   ]
  },
  {
   "cell_type": "markdown",
   "metadata": {},
   "source": [
    "![Mitochondria](cell/mitochondria.jpg)"
   ]
  },
  {
   "cell_type": "markdown",
   "metadata": {},
   "source": [
    "![Mitochondira](cell/mitochondria_structure.jpg)"
   ]
  },
  {
   "cell_type": "markdown",
   "metadata": {},
   "source": [
    "![Mitochondria](cell/mitochondria_dna.jpg)"
   ]
  },
  {
   "cell_type": "markdown",
   "metadata": {},
   "source": [
    "### Peroxisomes\n",
    "How does peroxisomes detoxify many poisons that may enter the body?\n",
    "\n",
    "![peroxisomes](cell/peroxisome.jpg)"
   ]
  },
  {
   "cell_type": "markdown",
   "metadata": {},
   "source": [
    "Peroxisomes use molecular oxygen and hydrogen peroxide to perfom oxidation reactions\n",
    "\n",
    "Peroxisomes are surrounded by only a single membrane.  \n",
    "Virtually all eukaryotic cells have peroxisomes. They contain oxidative enzymes, such as catalase and urate oxidase in very high concentration.\n",
    "\n",
    "Peroxisomes are so named because they usually contain one or more enzymes that use molecular oxygen to remove hydrogen atoms from specific organic substrates (designated there as R) in an oxidation reaction that produces hydrogen peroxide (H<sub>2</sub>O<sub>2</sub>)\n",
    "$$ \\ce{RH2  + O2 -> R + H2O2 } $$\n",
    "\n",
    "\n",
    "Catalase uses the H<sub>2</sub>O<sub>2</sub> generated by other enzymes in the organelle to oxidize a variety of other substrates -- including formic acid, formaldehyde, and alcohol by the \"peroxidation\" reaction:  $ \\ce{H2O2 + R'H2 -> R' + 2H2O} $ .\n",
    "\n",
    "\n",
    "This type of oxidation reaction is particularly important in liver and kidney cells, where the peroxisomes detoxify various harmful molecules that enter the bloodstream. About 25% of the ethanol we drink is oxidized to acetaldehyde in this way. In addition, when excess H<sub>2</sub>O<sub>2</sub> accumulates in the cell, catalase converts it to H<sub>2</sub>O through the reaction\n",
    "\n",
    "$$ \\ce{2H2O2 -> 2H2O + O2} $$\n",
    "\n"
   ]
  },
  {
   "cell_type": "markdown",
   "metadata": {},
   "source": [
    "### Glyoxysomes\n",
    "Peroxisomes are also important in plants. Two types of plant peroxisomes have been studied extensively. One is present in leaves, where it participates in photorespiration. The other type of peroxisome is present in germinating seeds, where it converts the fatty acids stored in seed lipids into the sugars needed for growth of the young plant. \n",
    "Becuase this conversion of fats to sugars is accomplished by a series of reactions known as glyoxylate cycle, these peroxisomes also called called glyoxysomes"
   ]
  },
  {
   "cell_type": "markdown",
   "metadata": {},
   "source": [
    "**Questions**  \n",
    "Which of the following is surrounded by two phospholipid bilayers?  \n",
    "A)the ribosomes  \n",
    "B)the vesicles  \n",
    "C)the cytoplasm  \n",
    "D)the nucleoplasm \n",
    "\n",
    "Peroxisomes got their name because hydrogen peroxide is:  \n",
    "A) used in their detoxification reactions  \n",
    "B) produced during their oxidation reactions  \n",
    "C) incorporated into their membranes  \n",
    "D)a cofactor for the organelles’ enzymes\n",
    "\n",
    "\n",
    "Which of the following is found both in eukaryotic and prokaryotic cells?  \n",
    "A) nucleus  \n",
    "B) mitochondrion  \n",
    "C) vacuole  \n",
    "D) ribosomes  \n",
    "\n",
    "You already know that ribosomes are abundant in red blood cells. In what other cells of the body would you find them in great abundance? Why?  "
   ]
  },
  {
   "cell_type": "markdown",
   "metadata": {},
   "source": [
    "### Vesicles and Vacuoles"
   ]
  },
  {
   "cell_type": "markdown",
   "metadata": {},
   "source": [
    "**Questions**  \n",
    "What are the function of vesicles and vacuoles?  \n",
    "What are the difference between vesicles and vacuoles?  \n",
    "\n",
    "Vesicles and vacuoles are membrane-bound sacs that function in storage and transport. Other than the fact that vacuoles are somewhat larger than vesicles, there is a very subtle distinction between them: The membranes of vesicles can fuse with either the plasma membrane or other membrane systems within the cell. Additionally, some agents such as enzymes within plant vacuoles break down macromolecules. The membrane of a vacuole does not fuse with the membranes of other cellular components."
   ]
  },
  {
   "cell_type": "markdown",
   "metadata": {},
   "source": [
    "### Animal Cells versus Plant Cells"
   ]
  },
  {
   "cell_type": "markdown",
   "metadata": {},
   "source": [
    "**Questions**  \n",
    "Is microtuble organizing centers present in both plant and animal cell? How does it differ in plant and animal cell?  \n",
    "Which organelles are present in plant cells where as absent in animal cells and vise versa?   \n",
    "What is the function of centrosome or centriole?  \n",
    "\n",
    "\n",
    "At this point, you know that each eukaryotic cell has a plasma membrane, cytoplasm, a nucleus, ribosomes, mitochondria, peroxisomes, and in some, vacuoles, but there are some striking differences between animal and plant cells. While both animal and plant cells have microtubule organizing centers (MTOCs), animal cells also have centrioles associated with the MTOC: a complex called the centrosome. Animal cells each have a centrosome and lysosomes, whereas plant cells do not. Plant cells have a cell wall, chloroplasts and other specialized plastids, and a large central vacuole, whereas animal cells do not.\n",
    "\n",
    "The microtubule-organizing center (MTOC) is a structure found in eukaryotic cells from which microtubules emerge. MTOCs have two main functions: the organization of eukaryotic flagella and cilia and the organization of the mitotic and meiotic spindle apparatus, which separate the chromosomes during cell division."
   ]
  },
  {
   "cell_type": "markdown",
   "metadata": {},
   "source": [
    "### The Centrosome"
   ]
  },
  {
   "cell_type": "markdown",
   "metadata": {},
   "source": [
    "The centrosome is a microtubule-organizing center found near the nuclei of animal cells. It contains a pair of centrioles, two structures that lie perpendicular to each other ( Figure). Each centriole is a cylinder of nine triplets of microtubules."
   ]
  },
  {
   "cell_type": "markdown",
   "metadata": {},
   "source": [
    "![Centrosome](cell/centrosome.jpg)"
   ]
  },
  {
   "cell_type": "markdown",
   "metadata": {},
   "source": [
    "The centrosome (the organelle where all microtubules originate) replicates itself before a cell divides, and the centrioles appear to have some role in pulling the duplicated chromosomes to opposite ends of the dividing cell. However, the exact function of the centrioles in cell division isn’t clear, because cells that have had the centrosome removed can still divide, and plant cells, which lack centrosomes, are capable of cell division."
   ]
  },
  {
   "cell_type": "markdown",
   "metadata": {},
   "source": [
    "### Lysosomes\n",
    "\n",
    "**Questions**  \n",
    "Do plant cell have lysosomes?   \n",
    "What is the advantage of compartmentalizing contents of lysosomes?  \n",
    "\n",
    "Animal cells have another set of organelles not found in plant cells: lysosomes. The lysosomes are the cell’s **“garbage disposal.”** In **plant cells**, the digestive processes take place in **vacuoles**. Enzymes within the lysosomes aid the breakdown of proteins, polysaccharides, lipids, nucleic acids, and even worn-out organelles. These enzymes are active at a much lower pH than that of the cytoplasm. Therefore, the pH within lysosomes is more acidic than the pH of the cytoplasm. Many reactions that take place in the cytoplasm could not occur at a low pH, so again, the advantage of compartmentalizing the eukaryotic cell into organelles is apparent."
   ]
  },
  {
   "cell_type": "markdown",
   "metadata": {},
   "source": [
    "### The Cell Wall\n",
    "\n",
    "**Questions**  \n",
    "Is cell wall present in animal cell?  \n",
    "Where is cell wall located?  \n",
    "What is the function of cell wall?  \n",
    "What are the chief component of cell walls?  \n",
    "What are plasmodesmata? What is its function?  \n",
    "\n",
    "If you examine the diagram of a plant cell, you will see a structure external to the plasma membrane called the cell wall. The cell wall is a rigid covering that protects the cell, provides structural support, and gives shape to the cell. Fungal and protistan cells also have cell walls. While the chief component of prokaryotic cell walls is peptidoglycan, the major organic molecule in the plant cell wall is cellulose, a polysaccharide made up of glucose units. Have you ever noticed that when you bite into a raw vegetable, like celery, it crunches? That’s because you are tearing the rigid cell walls of the celery cells with your teeth."
   ]
  },
  {
   "cell_type": "markdown",
   "metadata": {},
   "source": [
    "![Cell wall](cell/cell_wall.jpg)"
   ]
  },
  {
   "cell_type": "markdown",
   "metadata": {},
   "source": [
    "![Cellulose Structure](cell/cellulose.jpg)"
   ]
  },
  {
   "cell_type": "markdown",
   "metadata": {},
   "source": [
    "### Chloroplasts\n",
    "**Questions**    \n",
    "Name the two organelles which has their own DNA and ribosomes.    \n",
    "How does chloroplast differ from mitochondria? \n",
    "Describe two common characteristics of chloroplasts and mitochondria. Consider both function and membrane structure.  \n",
    "Do plant cells have mitochondria? Explain.\n",
    "Name three organelles which have a double membrane.  \n",
    "Explain and draw the structure of thylakoids, grana, and stroma.  \n",
    "\n",
    "Like the mitochondria, chloroplasts have their own DNA and ribosomes, but chloroplasts have an entirely different function. Chloroplasts are plant cell organelles that carry out photosynthesis. Photosynthesis is the series of reactions that use carbon dioxide, water, and light energy to make glucose and oxygen. This is a major difference between plants and animals; plants (autotrophs) are able to make their own food, like sugars, while animals (heterotrophs) must ingest their food.\n",
    "Like mitochondria, chloroplasts have outer and inner membranes, but within the space enclosed by a chloroplast’s inner membrane is a set of interconnected and stacked fluid-filled membrane sacs called thylakoids ( Figure). Each stack of thylakoids is called a granum (plural = grana). The fluid enclosed by the inner membrane that surrounds the grana is called the stroma."
   ]
  },
  {
   "cell_type": "markdown",
   "metadata": {},
   "source": [
    "![Chlorplasts](cell/chloroplast.jpg)"
   ]
  },
  {
   "cell_type": "markdown",
   "metadata": {},
   "source": [
    "![Chrolplast](cell/chloroplast_structure.jpg)"
   ]
  },
  {
   "cell_type": "markdown",
   "metadata": {},
   "source": [
    "![Chloroplast](cell/chlorplast_ribosomes.jpg)"
   ]
  },
  {
   "cell_type": "markdown",
   "metadata": {},
   "source": [
    "The chloroplasts contain a green pigment called **chlorophyll**, which captures the light energy that drives the reactions of photosynthesis. Like plant cells, photosynthetic protists also have chloroplasts. Some bacteria perform photosynthesis, but their chlorophyll is not relegated to an organelle."
   ]
  },
  {
   "cell_type": "markdown",
   "metadata": {},
   "source": [
    "![Endosymbiosis](cell/endosymbiosis.jpg)"
   ]
  },
  {
   "cell_type": "markdown",
   "metadata": {},
   "source": [
    "### The Central Vacuole\n",
    "\n",
    "Previously, we mentioned vacuoles as essential components of plant cells. If you look at Figure, you will see that plant cells each have a large central vacuole that occupies most of the area of the cell. The central vacuole plays a key role in regulating the cell’s concentration of water in changing environmental conditions. Have you ever noticed that if you forget to water a plant for a few days, it wilts? That’s because as the water concentration in the soil becomes lower than the water concentration in the plant, water moves out of the central vacuoles and cytoplasm. As the central vacuole shrinks, it leaves the cell wall unsupported. This loss of support to the cell walls of plant cells results in the wilted appearance of the plant.\n",
    "The central vacuole also supports the expansion of the cell. When the central vacuole holds more water, the cell gets larger without having to invest a lot of energy in synthesizing new cytoplasm."
   ]
  },
  {
   "cell_type": "markdown",
   "metadata": {},
   "source": [
    "**Questions**  \n",
    "Why plant cells have large vacuole and animal cells?  \n",
    "Plant cells have largely sized vacuoles because these help the cell in maintaining stiffness while it withstands all the environmental conditions. They store food materials, water required by the plant. Over a period of time, the excretory products accumulated will breakdown in the vacuole. Vacuoles maintain the shape of the cell constantly without getting disturbed by the availability of the water to the plant. Hence, plants have larger vacuoles.\n",
    "Animals can move from place to place in search of food, water, and others while plants cannot.  "
   ]
  },
  {
   "cell_type": "markdown",
   "metadata": {},
   "source": [
    "### The Endomembrane System and Proteins"
   ]
  },
  {
   "cell_type": "markdown",
   "metadata": {},
   "source": [
    "The endomembrane system (endo = “within”) is a group of membranes and organelles (Figure) in eukaryotic cells that works together to modify, package, and transport lipids and proteins. It includes the nuclear envelope, lysosomes, and vesicles, which we’ve already mentioned, and the endoplasmic reticulum and Golgi apparatus, which we will cover shortly. Although not technically within the cell, the plasma membrane is included in the endomembrane system because, as you will see, it interacts with the other endomembranous organelles. The endomembrane system does not include the membranes of either mitochondria or chloroplasts.\n"
   ]
  },
  {
   "cell_type": "markdown",
   "metadata": {},
   "source": [
    "**Questions**  \n",
    "A classmate proposes that mitochondria and chloroplasts should be classified in the endomembrane system. Argue against the proposal."
   ]
  },
  {
   "cell_type": "markdown",
   "metadata": {},
   "source": [
    "### The Endoplasmic Reticulum\n",
    "**Questions**  \n",
    "How does RER differ from SER?  \n",
    "\n",
    "The endoplasmic reticulum (ER) is a series of interconnected membranous sacs and tubules that collectively modifies proteins and synthesizes lipids. However, these two functions are performed in separate areas of the ER: the rough ER and the smooth ER, respectively.\n",
    "The hollow portion of the ER tubules is called the lumen or cisternal space. The membrane of the ER, which is a phospholipid bilayer embedded with proteins, is continuous with the nuclear envelope."
   ]
  },
  {
   "cell_type": "markdown",
   "metadata": {},
   "source": [
    "![Endomembrane](cell/endomembrane.jpg)"
   ]
  },
  {
   "cell_type": "markdown",
   "metadata": {},
   "source": [
    "### Rough ER\n",
    "\n",
    "The rough endoplasmic reticulum (RER) is so named because the ribosomes attached to its cytoplasmic surface give it a studded appearance when viewed through an electron microscope (Figure)."
   ]
  },
  {
   "cell_type": "markdown",
   "metadata": {},
   "source": [
    "![ER](cell/ER.jpg)"
   ]
  },
  {
   "cell_type": "markdown",
   "metadata": {},
   "source": [
    "**Questions**  \n",
    "What is the function of RER?"
   ]
  },
  {
   "cell_type": "markdown",
   "metadata": {},
   "source": [
    "Ribosomes transfer their newly synthesized proteins into the lumen of the RER where they undergo structural modifications, such as folding or the acquisition of side chains. These modified proteins will be incorporated into cellular membranes—the membrane of the ER or those of other organelles—or secreted from the cell (such as protein hormones, enzymes). The RER also makes phospholipids for cellular membranes.  \n",
    "If the phospholipids or modified proteins are not destined to stay in the RER, they will reach their destinations via transport vesicles that bud from the RER’s membrane (Figure).  \n",
    "Since the RER is engaged in modifying proteins (such as enzymes, for example) that will be secreted from the cell, you would be correct in assuming that the RER is abundant in cells that secrete proteins. This is the case with cells of the liver, for example.  "
   ]
  },
  {
   "cell_type": "markdown",
   "metadata": {},
   "source": [
    "### Smooth ER\n",
    "\n",
    "The smooth endoplasmic reticulum (SER) is continuous with the RER but has few or no ribosomes on its cytoplasmic surface (Figure). Functions of the SER include synthesis of carbohydrates, lipids, and steroid hormones; detoxification of medications and poisons; and storage of calcium ions.  \n",
    "In muscle cells, a specialized SER called the sarcoplasmic reticulum is responsible for storage of the calcium ions that are needed to trigger the coordinated contractions of the muscle cells.  "
   ]
  },
  {
   "cell_type": "markdown",
   "metadata": {},
   "source": [
    "![Cardiologist](cell/cardiologist.jpg)"
   ]
  },
  {
   "cell_type": "markdown",
   "metadata": {},
   "source": [
    "### The Golgi Apparatus"
   ]
  },
  {
   "cell_type": "markdown",
   "metadata": {},
   "source": [
    "We have already mentioned that vesicles can bud from the ER and transport their contents elsewhere, but where do the vesicles go? Before reaching their final destination, the lipids or proteins within the transport vesicles still need to be sorted, packaged, and tagged so that they wind up in the right place. Sorting, tagging, packaging, and distribution of lipids and proteins takes place in the Golgi apparatus (also called the Golgi body), a series of flattened membranes."
   ]
  },
  {
   "cell_type": "markdown",
   "metadata": {},
   "source": [
    "The receiving side of the Golgi apparatus is called the cis face. The opposite side is called the trans face. The transport vesicles that formed from the ER travel to the cis face, fuse with it, and empty their contents into the lumen of the Golgi apparatus. As the proteins and lipids travel through the Golgi, they undergo further modifications that allow them to be sorted. The most frequent modification is the addition of short chains of sugar molecules. These newly modified proteins and lipids are then tagged with phosphate groups or other small molecules so that they can be routed to their proper destinations.  \n",
    "Finally, the modified and tagged proteins are packaged into secretory vesicles that bud from the trans face of the Golgi. While some of these vesicles deposit their contents into other parts of the cell where they will be used, other secretory vesicles fuse with the plasma membrane and release their contents outside the cell.\n",
    "In another example of form following function, cells that engage in a great deal of secretory activity (such as cells of the salivary glands that secrete digestive enzymes or cells of the immune system that secrete antibodies) have an abundance of Golgi.  \n",
    "In plant cells, the Golgi apparatus has the additional role of synthesizing polysaccharides, some of which are incorporated into the cell wall and some of which are used in other parts of the cell.  "
   ]
  },
  {
   "cell_type": "markdown",
   "metadata": {},
   "source": [
    "**Questions**  \n",
    "Match the following \n"
   ]
  },
  {
   "cell_type": "markdown",
   "metadata": {},
   "source": [
    "<table ><tr><td style=\"text-align:left\">Column I</td><td style=\"text-align:left\">Column II</td></tr><tr><td style=\"text-align:left\">(a) Cristae</td> <td style=\"text-align:left\">(i) Flat membranous sacs in stroma</td></tr><tr><td style=\"text-align:left\">(b) Cisternae </td><td style=\"text-align:left\">(ii) Infoldings in mitochondria</td></tr><tr><td style=\"text-align:left\">(c) Thylakoids </td><td style=\"text-align:left\"> (iii) Disc-shaped sacs in Golgi apparatus</td></tr></table>"
   ]
  },
  {
   "cell_type": "markdown",
   "metadata": {},
   "source": [
    "### Lysosomes"
   ]
  },
  {
   "cell_type": "markdown",
   "metadata": {},
   "source": [
    "In addition to their role as the digestive component and organelle-recycling facility of animal cells, lysosomes are considered to be parts of the endomembrane system. Lysosomes also use their hydrolytic enzymes to destroy pathogens (disease-causing organisms) that might enter the cell. A good example of this occurs in a group of white blood cells called macrophages, which are part of your body’s immune system. In a process known as phagocytosis or endocytosis, a section of the plasma membrane of the macrophage invaginates (folds in) and engulfs a pathogen. The invaginated section, with the pathogen inside, then pinches itself off from the plasma membrane and becomes a vesicle. The vesicle fuses with a lysosome. The lysosome’s hydrolytic enzymes then destroy the pathogen "
   ]
  },
  {
   "cell_type": "markdown",
   "metadata": {},
   "source": [
    "![phagocytosis](cell/phagocytosis.jpg)"
   ]
  },
  {
   "cell_type": "markdown",
   "metadata": {},
   "source": [
    "**Questions**"
   ]
  },
  {
   "cell_type": "markdown",
   "metadata": {},
   "source": [
    "Which of the following is not a component of the endomembrane system?  \n",
    "a) mitochondrion  \n",
    "b) Golgi apparatus  \n",
    "c) endoplasmic reticulum  \n",
    "d) lysosome  "
   ]
  },
  {
   "cell_type": "markdown",
   "metadata": {},
   "source": [
    "The process by which a cell engulfs a foreign particle is known as:  \n",
    "a) endosymbiosis  \n",
    "b) phagocytosis  \n",
    "c) hydrolysis  \n",
    "d) membrane synthesis  "
   ]
  },
  {
   "cell_type": "markdown",
   "metadata": {},
   "source": [
    "Which of the following sequences correctly lists in order the steps involved in the incorporation of a proteinaceous molecule within a cell?  \n",
    "a) synthesis of the protein on the ribosome; modification in the Golgi apparatus; packaging in the endoplasmic reticulum; tagging in the vesicle  \n",
    "b) synthesis of the protein on the lysosome; tagging in the Golgi; packaging in the vesicle; distribution in the endoplasmic reticulum  \n",
    "c) synthesis of the protein on the ribosome; modification in the endoplasmic reticulum; tagging in the Golgi; distribution via the vesicle  \n",
    "d) synthesis of the protein on the lysosome; packaging in the vesicle; distribution via the Golgi; tagging in the endoplasmic reticulum  "
   ]
  },
  {
   "cell_type": "markdown",
   "metadata": {},
   "source": [
    "In the context of cell biology, what do we mean by form follows function? What are at least two examples of this concept?"
   ]
  },
  {
   "cell_type": "markdown",
   "metadata": {},
   "source": [
    "“Form follows function” refers to the idea that the function of a body part dictates the form of that body part. As an example, compare your arm to a bat’s wing. While the bones of the two correspond, the parts serve different functions in each organism and their forms have adapted to follow that function."
   ]
  },
  {
   "cell_type": "markdown",
   "metadata": {},
   "source": [
    "In your opinion, is the nuclear membrane part of the endomembrane system? Why or why not? Defend your answer."
   ]
  },
  {
   "cell_type": "markdown",
   "metadata": {},
   "source": [
    "Since the external surface of the nuclear membrane is continuous with the rough endoplasmic reticulum, which is part of the endomembrane system, then it is correct to say that it is part of the system.\n"
   ]
  },
  {
   "cell_type": "markdown",
   "metadata": {},
   "source": [
    "If the plant cell wall or the animal extracellular matrix were impermeable, what effect would this have on cell function?"
   ]
  },
  {
   "cell_type": "markdown",
   "metadata": {},
   "source": [
    "Which structure is not part of the endomembrane system?  \n",
    "a. nuclear envelope  \n",
    "c. Golgi apparatus  \n",
    "b. chloroplast  \n",
    "d. plasma membrane   \n",
    "Which structure is common to plant and animal cells?  \n",
    "a. chloroplast  \n",
    "c. mitochondrion  \n",
    "b. central vacuole  \n",
    "d. centriole  \n",
    "Which of the following is present in a prokaryotic cell?  \n",
    "a. mitochondrion  \n",
    "c. nuclear envelope  \n",
    "b. ribosome  \n",
    "d. chloroplast  \n",
    "Which structure-function pair is mismatched?  \n",
    "a. microtubule; muscle contraction  \n",
    "b. ribosome; protein synthesis  \n",
    "c. Golgi; protein trafficking  \n",
    "d. nucleolus; production of ribosomal subunits  "
   ]
  },
  {
   "cell_type": "markdown",
   "metadata": {},
   "source": [
    "### The Cytoskeleton"
   ]
  },
  {
   "cell_type": "markdown",
   "metadata": {},
   "source": [
    "**Questions**  \n",
    "What are cytoskeleton? What is the function of cytoskeleton?  \n",
    "\n",
    "If you were to remove all the organelles from a cell, would the plasma membrane and the cytoplasm be the only components left? No. Within the cytoplasm, there would still be ions and organic molecules, **plus a network of protein fibers that help maintain the shape of the cell, secure some organelles in specific positions, allow cytoplasm and vesicles to move within the cell, and enable cells within multicellular organisms to move. Collectively, this network of protein fibers is known as the cytoskeleton.** There are three types of fibers within the cytoskeleton: **microfilaments, intermediate filaments, and microtubules**. Here, we will examine each."
   ]
  },
  {
   "cell_type": "markdown",
   "metadata": {},
   "source": [
    "![Cytoskeleton](cell/Cytoskeleton.jpg)"
   ]
  },
  {
   "cell_type": "markdown",
   "metadata": {},
   "source": [
    "### Microfilaments\n",
    "Of the three types of protein fibers in the cytoskeleton, microfilaments are the narrowest. They function in cellular movement"
   ]
  },
  {
   "cell_type": "markdown",
   "metadata": {},
   "source": [
    "![Microfilaments](cell/microfilament.jpg)"
   ]
  },
  {
   "cell_type": "markdown",
   "metadata": {},
   "source": [
    "are made of two intertwined strands of a globular protein called actin (Figure). For this reason, microfilaments are also known as actin filaments."
   ]
  },
  {
   "cell_type": "markdown",
   "metadata": {},
   "source": [
    "### Intermediate Filaments\n",
    "Intermediate filaments have no role in cell movement. Their function is purely structural. They bear tension, thus maintaining the shape of the cell, and anchor the nucleus and other organelles in place."
   ]
  },
  {
   "cell_type": "markdown",
   "metadata": {},
   "source": [
    "### Microtubules\n",
    "![microtubles](cell/microtubles.jpg)"
   ]
  },
  {
   "cell_type": "markdown",
   "metadata": {},
   "source": [
    "As their name implies, microtubules are small hollow tubes. "
   ]
  },
  {
   "cell_type": "markdown",
   "metadata": {},
   "source": [
    "Microtubules are also the structural elements of flagella, cilia, and centrioles (the latter are the two perpendicular bodies of the centrosome). In fact, in animal cells, the centrosome is the microtubule-organizing center. "
   ]
  },
  {
   "cell_type": "markdown",
   "metadata": {},
   "source": [
    "**Questions**  \n",
    "Differentiate based upon function: Microfilaments, Intermediate filaments and microtubules  "
   ]
  },
  {
   "cell_type": "markdown",
   "metadata": {},
   "source": [
    "### Flagella and Cilia\n",
    "\n",
    "**Questions**  \n",
    "Compare and contrast flagella and cilia  \n",
    "\n",
    "To refresh your memory, flagella (singular = flagellum) are long, hair-like structures that extend from the plasma membrane and are used to move an entire cell (for example, sperm, Euglena). When present, the cell has just one flagellum or a few flagella. When cilia (singular = cilium) are present, however, many of them extend along the entire surface of the plasma membrane. They are short, hair-like structures that are used to move entire cells (such as paramecia) or substances along the outer surface of the cell (for example, the cilia of cells lining the Fallopian tubes that move the ovum toward the uterus, or cilia lining the cells of the respiratory tract that trap particulate matter and move it toward your nostrils.)  \n",
    "Despite their differences in length and number, flagella and cilia share a common structural arrangement of microtubules called a **“9 + 2 array.”** This is an appropriate name because a single flagellum or cilium is made of a **ring of nine microtubule doublets**, surrounding **a *single* microtubule doublet in the center ** "
   ]
  },
  {
   "cell_type": "markdown",
   "metadata": {},
   "source": [
    "![flagella](cell/flagella.jpg)"
   ]
  },
  {
   "cell_type": "markdown",
   "metadata": {},
   "source": [
    "**Questions**  \n",
    "Tell about the structure of plant vacuolar membranes and a vesicle?  \n",
    "\n",
    "The vacuolar membrane is composed of highly ordered lipids which form regions of free liquid lipid bilayer loosely bound to integral proteins.\n",
    "\n",
    "An artificially made vesicle called liposome.\n",
    "\n",
    "![Liposomes](cell/Liposome.svg)\n"
   ]
  },
  {
   "cell_type": "markdown",
   "metadata": {},
   "source": [
    "## Vesicles Transport\n",
    "\n",
    "Within a eukaryotic cell, transport vesicles continually bud off from one membrane and use with another, carrying membrane components and soluble lumenal molecules, which are referred t as cargo.\n",
    "\n",
    "![Vesicles Transport](cell/vesicle_transport.jpg)"
   ]
  },
  {
   "cell_type": "markdown",
   "metadata": {},
   "source": [
    "Transport vesicles bud off from one compartment and fuse with another. As they do so, they carry material as cargo from the lumen (the space within a membrane-enclosed compartment) and membrane of the donor compartment to the lumen and membrane of the target compartment, as shown."
   ]
  },
  {
   "cell_type": "markdown",
   "metadata": {},
   "source": [
    "![Endocytosis](cell/exocytosis_and_endocytosis.jpg)"
   ]
  },
  {
   "cell_type": "markdown",
   "metadata": {},
   "source": [
    "The secretory pathway leads outward from the endoplasmic reticulum (ER) toward the Golgi apparatus and cell surface, which a side route leading to lysosomes, while the endocytic pathway leads inward from the plasma membrane. In each case, retrieval pathways balance the flow of membrane between compartments in the opposite direction bringing membrane and selected proteins back to the compartment of origin."
   ]
  },
  {
   "cell_type": "markdown",
   "metadata": {},
   "source": [
    "![Endomembrane Pathways](cell/endomembrane_pathways.jpg)"
   ]
  },
  {
   "cell_type": "markdown",
   "metadata": {},
   "source": [
    "Secretory pathway (red arrows), endocytic pathway (green arrows), retrieval pathway (blue arrows)"
   ]
  },
  {
   "cell_type": "markdown",
   "metadata": {},
   "source": [
    "**Questions**\n",
    "\n",
    "Give a term for following statements: \n",
    "a) General term for a membrane-enclosed container that moves material between membrane-enclosed compartments within the cell.\n",
    "\n",
    "b) Interior space of a membrane-enclosed compartment.\n",
    "\n",
    "In a nondividing cell such as a liver cell, why must the flow of membrane between compartments be balanced, so that the retrieval pathways match the outward flow? Would you expect the same balanced flow in a gut epithelial cell, which is actively dividing?  \n",
    "\n",
    "If the flow of membrane between cellular compartments were not balanced in a nondividing liver cell, some compartments would grow in size and others would shrink (in the absence of new membrane synthesis). Keeping all the membrane compartments the same relative size is essential  for proper functioning of a liver cell. The situation is different in a growing cell such as a gut epithelial cell. Over the course of a single cell cycle, all the compartments must double in size to generate two daughter cells. Thus, there will be an imbalance in favor of the outward flow, which will be supported by new membrane synthesis equal to the sum total of all the cell’s membrane."
   ]
  },
  {
   "cell_type": "markdown",
   "metadata": {},
   "source": [
    "Label the various compartments in the diagram.\n",
    "![Comparments](cell/compartments.jpg)"
   ]
  },
  {
   "cell_type": "markdown",
   "metadata": {},
   "source": [
    "\n"
   ]
  }
 ],
 "metadata": {
  "kernelspec": {
   "display_name": "Python 3",
   "language": "python",
   "name": "python3"
  },
  "language_info": {
   "codemirror_mode": {
    "name": "ipython",
    "version": 3
   },
   "file_extension": ".py",
   "mimetype": "text/x-python",
   "name": "python",
   "nbconvert_exporter": "python",
   "pygments_lexer": "ipython3",
   "version": "3.5.3"
  }
 },
 "nbformat": 4,
 "nbformat_minor": 2
}
